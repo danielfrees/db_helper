{
 "cells": [
  {
   "cell_type": "markdown",
   "id": "a716ce8a-1d89-43de-a123-ae6e63db026f",
   "metadata": {},
   "source": [
    "# TOC\n",
    "\n"
   ]
  },
  {
   "cell_type": "markdown",
   "id": "9e845e27-b1e4-4714-bff0-c84bcd24933b",
   "metadata": {},
   "source": [
    "# Import Neograph package"
   ]
  },
  {
   "cell_type": "code",
   "execution_count": 16,
   "id": "942ef419-186d-4e13-8f9d-0ede1d9adf59",
   "metadata": {},
   "outputs": [
    {
     "name": "stdout",
     "output_type": "stream",
     "text": [
      "The autoreload extension is already loaded. To reload it, use:\n",
      "  %reload_ext autoreload\n"
     ]
    }
   ],
   "source": [
    "%load_ext autoreload\n",
    "%autoreload 2\n",
    "import neograph as ng"
   ]
  },
  {
   "cell_type": "markdown",
   "id": "021fe330-e73c-43e2-99b8-72174d5277e9",
   "metadata": {},
   "source": [
    "# Create a NeoGraph and Connect to DBMS"
   ]
  },
  {
   "cell_type": "code",
   "execution_count": 17,
   "id": "fac3374d-a407-47a8-84fa-103d6d9c0237",
   "metadata": {},
   "outputs": [],
   "source": [
    "uri      = \"bolt://localhost:7687\" # in Neo4j Desktop\n",
    "                              # custom URL for Sandbox or Aura\n",
    "user     = \"neo4j\"            # your user name \n",
    "                              # default is always \"neo4j\" \n",
    "                              # unless you have changed it. \n",
    "password = 'usaa&ibm'   #your neo4j password\n",
    "\n",
    "G = ng.NeoGraph(uri = uri, user = user, password = password)"
   ]
  },
  {
   "cell_type": "markdown",
   "id": "f3a4f054-4c4c-4eed-b12c-a194418a1f60",
   "metadata": {},
   "source": [
    "# TESTING"
   ]
  },
  {
   "cell_type": "markdown",
   "id": "05b14a8d-deee-44f5-af23-6f1d99a85ea5",
   "metadata": {},
   "source": [
    "## Contraints on DBMS (WORKING)"
   ]
  },
  {
   "cell_type": "code",
   "execution_count": 18,
   "id": "096ccb36-359f-4d12-9880-329a69a1caea",
   "metadata": {},
   "outputs": [
    {
     "name": "stdout",
     "output_type": "stream",
     "text": [
      "Desired constraint on nodes for Person{name} already exists.\n",
      "\n",
      "Get constraint query result:\n",
      "[{'id': 4, 'name': 'Person_node_name_unique', 'type': 'UNIQUENESS', 'entityType': 'NODE', 'labelsOrTypes': ['Person'], 'properties': ['name'], 'ownedIndexId': 3}]\n"
     ]
    }
   ],
   "source": [
    "G.create_constraint(label = 'Person', prop = 'name', on='node', constraint_type = 'unique')\n",
    "G.get_constraints()"
   ]
  },
  {
   "cell_type": "markdown",
   "id": "0c0d9f72-2e80-451a-bda2-09729c8f0bb5",
   "metadata": {},
   "source": [
    "## Storage in DBMS (WORKING)"
   ]
  },
  {
   "cell_type": "code",
   "execution_count": 19,
   "id": "d66ba117-2a21-4e50-af7d-d5294711de37",
   "metadata": {},
   "outputs": [
    {
     "data": {
      "image/png": "[encoded data removed]",
      "text/plain": [
       "<Figure size 576x576 with 1 Axes>"
      ]
     },
     "metadata": {},
     "output_type": "display_data"
    },
    {
     "name": "stdout",
     "output_type": "stream",
     "text": [
      "Storing the following node...\n",
      "name: James May\n",
      "label: Person\n",
      "other props:  color:\"green\", favorite_food:\"pizza\", fav_ice_cream:\"mint chip\"\n",
      "\n",
      "\n",
      "Add node query result:\n",
      "[{'n': {'favorite_food': 'pizza', 'color': 'green', 'fav_ice_cream': 'mint chip', 'created': 1665101110729, 'name': 'James May'}, 'n.created': 1665101110729}]\n",
      "Storing the following node...\n",
      "name: Jeremy Clarkson\n",
      "label: Person\n",
      "other props:  color:\"green\", favorite_food:\"Richard Hammond\"\n",
      "\n",
      "\n",
      "Add node query result:\n",
      "[{'n': {'favorite_food': 'Richard Hammond', 'color': 'green', 'created': 1665101110765, 'name': 'Jeremy Clarkson'}, 'n.created': 1665101110765}]\n",
      "Storing the following node...\n",
      "name: Toyota Camry\n",
      "label: Car\n",
      "other props:  color:\"blue\", condition:\"Like new\"\n",
      "\n",
      "\n",
      "Add node query result:\n",
      "[{'n': {'condition': 'Like new', 'color': 'blue', 'created': 1665101110790, 'name': 'Toyota Camry'}, 'n.created': 1665101110790}]\n",
      "\n",
      "Add relationship query result:\n",
      "[{'e': ({}, 'hitBy', {})}]\n",
      "\n",
      "Add relationship query result:\n",
      "[{'e': ({}, 'ownedBy', {})}]\n"
     ]
    }
   ],
   "source": [
    "G.add_node('James May', data = {'color': 'green', 'label': 'Person', 'favorite_food':'pizza', 'fav_ice_cream': 'mint chip'})\n",
    "G.add_node('Jeremy Clarkson', data = {'color' : 'green', 'label': 'Person', 'favorite_food':'Richard Hammond'})\n",
    "G.add_node('Toyota Camry', data = {'color': 'blue', 'label': 'Car', 'condition':'Like new'})\n",
    "G.add_edge('James May', 'Toyota Camry', label = 'hitBy')\n",
    "G.add_edge('Toyota Camry', 'Jeremy Clarkson', label = 'ownedBy', purchase_date = '11/01/2020', purchase_price = '$18000')\n",
    "\n",
    "ng.draw_labeled_net(G)\n",
    "\n",
    "G.store_in_neo(verbose = True)"
   ]
  },
  {
   "cell_type": "code",
   "execution_count": 20,
   "id": "4b91b834-34e0-4ada-a5dd-c61951277c27",
   "metadata": {},
   "outputs": [
    {
     "name": "stdout",
     "output_type": "stream",
     "text": [
      "{'label': 'hitBy'}\n",
      "{'label': 'ownedBy', 'purchase_date': '11/01/2020', 'purchase_price': '$18000'}\n",
      "{'data': {'color': 'green', 'label': 'Person', 'favorite_food': 'pizza', 'fav_ice_cream': 'mint chip'}}\n",
      "{'data': {'color': 'green', 'label': 'Person', 'favorite_food': 'Richard Hammond'}}\n",
      "{'data': {'color': 'blue', 'label': 'Car', 'condition': 'Like new'}}\n"
     ]
    }
   ],
   "source": [
    "for edge in G.edges:\n",
    "    print(G.edges[edge])\n",
    "for node in G.nodes:\n",
    "    print(G.nodes[node])"
   ]
  },
  {
   "cell_type": "markdown",
   "id": "65c5945c-6e1f-4279-9256-ab00274b10db",
   "metadata": {},
   "source": [
    "## Loading (NOT FINISHED, need to extract into networkx graph)"
   ]
  },
  {
   "cell_type": "code",
   "execution_count": 21,
   "id": "6046b4b9-7e00-471d-9349-8d6f718bee0a",
   "metadata": {},
   "outputs": [
    {
     "name": "stdout",
     "output_type": "stream",
     "text": [
      "[{'n': {'favorite_food': 'pizza', 'color': 'green', 'fav_ice_cream': 'mint chip', 'created': 1665101110729, 'name': 'James May'}}, {'n': {'favorite_food': 'Richard Hammond', 'color': 'green', 'created': 1665101110765, 'name': 'Jeremy Clarkson'}}, {'n': {'condition': 'Like new', 'color': 'blue', 'created': 1665101110790, 'name': 'Toyota Camry'}}, {'n': {'condition': 'Like new', 'color': 'blue', 'created': 1665107304535, 'name': 'Honda Accord'}}, {'n': {'color': 'red', 'subtype': 'Claimant', 'created': 1665109260592, 'confidence': '0.999964', 'name': 'My', 'count': '6'}}, {'n': {'color': 'red', 'subtype': 'IncidentLocation', 'created': 1665109260708, 'confidence': '0.997111', 'name': 'parking lot', 'count': '1'}}, {'n': {'color': 'red', 'subtype': 'Number', 'created': 1665109260765, 'confidence': '0.989154', 'name': '#GYH98817', 'count': '1'}}, {'n': {'color': 'red', 'subtype': 'SUV', 'created': 1665109260823, 'confidence': '0.939176', 'name': 'Nationwide #RUH612912', 'count': '4'}}, {'n': {'color': 'red', 'subtype': 'ThirdParty', 'created': 1665109260879, 'confidence': '0.916797', 'name': 'Jessica Owens', 'count': '2'}}, {'n': {'color': 'red', 'subtype': 'NONE', 'created': 1665109260900, 'confidence': '0.867708', 'name': 'passenger side door', 'count': '2'}}, {'n': {'color': 'red', 'subtype': 'NONE', 'created': 1665109260955, 'confidence': '0.797304', 'name': 'her', 'count': '1'}}, {'n': {'color': 'red', 'subtype': 'Sedan', 'created': 1665109260962, 'confidence': '0.685519', 'name': '2019 Ford', 'count': '1'}}, {'n': {'color': 'red', 'subtype': 'NONE', 'created': 1665109260972, 'confidence': '0.634804', 'name': '2022 Toyota Camry', 'count': '1'}}, {'n': {'color': 'red', 'subtype': 'NONE', 'created': 1665109260988, 'confidence': '0.610561', 'name': 'someone', 'count': '1'}}, {'n': {'color': 'red', 'subtype': 'NONE', 'created': 1665109260996, 'confidence': '0.42999', 'name': 'Geico policy', 'count': '2'}}, {'n': {'color': 'red', 'subtype': 'ThunderStorm', 'created': 1665109261052, 'confidence': '0.382135', 'name': 'passenger', 'count': '1'}}, {'n': {'color': 'red', 'subtype': 'NONE', 'created': 1665109261109, 'confidence': '0.377433', 'name': 'Explorer', 'count': '1'}}]\n"
     ]
    },
    {
     "data": {
      "text/plain": [
       "[{'n': {'favorite_food': 'pizza',\n",
       "   'color': 'green',\n",
       "   'fav_ice_cream': 'mint chip',\n",
       "   'created': 1665101110729,\n",
       "   'name': 'James May'}},\n",
       " {'n': {'favorite_food': 'Richard Hammond',\n",
       "   'color': 'green',\n",
       "   'created': 1665101110765,\n",
       "   'name': 'Jeremy Clarkson'}},\n",
       " {'n': {'condition': 'Like new',\n",
       "   'color': 'blue',\n",
       "   'created': 1665101110790,\n",
       "   'name': 'Toyota Camry'}},\n",
       " {'n': {'condition': 'Like new',\n",
       "   'color': 'blue',\n",
       "   'created': 1665107304535,\n",
       "   'name': 'Honda Accord'}},\n",
       " {'n': {'color': 'red',\n",
       "   'subtype': 'Claimant',\n",
       "   'created': 1665109260592,\n",
       "   'confidence': '0.999964',\n",
       "   'name': 'My',\n",
       "   'count': '6'}},\n",
       " {'n': {'color': 'red',\n",
       "   'subtype': 'IncidentLocation',\n",
       "   'created': 1665109260708,\n",
       "   'confidence': '0.997111',\n",
       "   'name': 'parking lot',\n",
       "   'count': '1'}},\n",
       " {'n': {'color': 'red',\n",
       "   'subtype': 'Number',\n",
       "   'created': 1665109260765,\n",
       "   'confidence': '0.989154',\n",
       "   'name': '#GYH98817',\n",
       "   'count': '1'}},\n",
       " {'n': {'color': 'red',\n",
       "   'subtype': 'SUV',\n",
       "   'created': 1665109260823,\n",
       "   'confidence': '0.939176',\n",
       "   'name': 'Nationwide #RUH612912',\n",
       "   'count': '4'}},\n",
       " {'n': {'color': 'red',\n",
       "   'subtype': 'ThirdParty',\n",
       "   'created': 1665109260879,\n",
       "   'confidence': '0.916797',\n",
       "   'name': 'Jessica Owens',\n",
       "   'count': '2'}},\n",
       " {'n': {'color': 'red',\n",
       "   'subtype': 'NONE',\n",
       "   'created': 1665109260900,\n",
       "   'confidence': '0.867708',\n",
       "   'name': 'passenger side door',\n",
       "   'count': '2'}},\n",
       " {'n': {'color': 'red',\n",
       "   'subtype': 'NONE',\n",
       "   'created': 1665109260955,\n",
       "   'confidence': '0.797304',\n",
       "   'name': 'her',\n",
       "   'count': '1'}},\n",
       " {'n': {'color': 'red',\n",
       "   'subtype': 'Sedan',\n",
       "   'created': 1665109260962,\n",
       "   'confidence': '0.685519',\n",
       "   'name': '2019 Ford',\n",
       "   'count': '1'}},\n",
       " {'n': {'color': 'red',\n",
       "   'subtype': 'NONE',\n",
       "   'created': 1665109260972,\n",
       "   'confidence': '0.634804',\n",
       "   'name': '2022 Toyota Camry',\n",
       "   'count': '1'}},\n",
       " {'n': {'color': 'red',\n",
       "   'subtype': 'NONE',\n",
       "   'created': 1665109260988,\n",
       "   'confidence': '0.610561',\n",
       "   'name': 'someone',\n",
       "   'count': '1'}},\n",
       " {'n': {'color': 'red',\n",
       "   'subtype': 'NONE',\n",
       "   'created': 1665109260996,\n",
       "   'confidence': '0.42999',\n",
       "   'name': 'Geico policy',\n",
       "   'count': '2'}},\n",
       " {'n': {'color': 'red',\n",
       "   'subtype': 'ThunderStorm',\n",
       "   'created': 1665109261052,\n",
       "   'confidence': '0.382135',\n",
       "   'name': 'passenger',\n",
       "   'count': '1'}},\n",
       " {'n': {'color': 'red',\n",
       "   'subtype': 'NONE',\n",
       "   'created': 1665109261109,\n",
       "   'confidence': '0.377433',\n",
       "   'name': 'Explorer',\n",
       "   'count': '1'}}]"
      ]
     },
     "execution_count": 21,
     "metadata": {},
     "output_type": "execute_result"
    }
   ],
   "source": [
    "G.load_from_neo()"
   ]
  },
  {
   "cell_type": "markdown",
   "id": "74a42547-50e0-4884-b0f5-72bbde7c89a0",
   "metadata": {},
   "source": [
    "## Reading (WORKING)"
   ]
  },
  {
   "cell_type": "code",
   "execution_count": 22,
   "id": "cad08128-20e9-4651-883a-00d3babe10fc",
   "metadata": {},
   "outputs": [
    {
     "name": "stdout",
     "output_type": "stream",
     "text": [
      "[{'n': {'favorite_food': 'pizza', 'color': 'green', 'fav_ice_cream': 'mint chip', 'created': 1665101110729, 'name': 'James May'}}, {'n': {'favorite_food': 'Richard Hammond', 'color': 'green', 'created': 1665101110765, 'name': 'Jeremy Clarkson'}}, {'n': {'condition': 'Like new', 'color': 'blue', 'created': 1665101110790, 'name': 'Toyota Camry'}}, {'n': {'condition': 'Like new', 'color': 'blue', 'created': 1665107304535, 'name': 'Honda Accord'}}, {'n': {'color': 'red', 'subtype': 'Claimant', 'created': 1665109260592, 'confidence': '0.999964', 'name': 'My', 'count': '6'}}, {'n': {'color': 'red', 'subtype': 'IncidentLocation', 'created': 1665109260708, 'confidence': '0.997111', 'name': 'parking lot', 'count': '1'}}, {'n': {'color': 'red', 'subtype': 'Number', 'created': 1665109260765, 'confidence': '0.989154', 'name': '#GYH98817', 'count': '1'}}, {'n': {'color': 'red', 'subtype': 'SUV', 'created': 1665109260823, 'confidence': '0.939176', 'name': 'Nationwide #RUH612912', 'count': '4'}}, {'n': {'color': 'red', 'subtype': 'ThirdParty', 'created': 1665109260879, 'confidence': '0.916797', 'name': 'Jessica Owens', 'count': '2'}}, {'n': {'color': 'red', 'subtype': 'NONE', 'created': 1665109260900, 'confidence': '0.867708', 'name': 'passenger side door', 'count': '2'}}, {'n': {'color': 'red', 'subtype': 'NONE', 'created': 1665109260955, 'confidence': '0.797304', 'name': 'her', 'count': '1'}}, {'n': {'color': 'red', 'subtype': 'Sedan', 'created': 1665109260962, 'confidence': '0.685519', 'name': '2019 Ford', 'count': '1'}}, {'n': {'color': 'red', 'subtype': 'NONE', 'created': 1665109260972, 'confidence': '0.634804', 'name': '2022 Toyota Camry', 'count': '1'}}, {'n': {'color': 'red', 'subtype': 'NONE', 'created': 1665109260988, 'confidence': '0.610561', 'name': 'someone', 'count': '1'}}, {'n': {'color': 'red', 'subtype': 'NONE', 'created': 1665109260996, 'confidence': '0.42999', 'name': 'Geico policy', 'count': '2'}}, {'n': {'color': 'red', 'subtype': 'ThunderStorm', 'created': 1665109261052, 'confidence': '0.382135', 'name': 'passenger', 'count': '1'}}, {'n': {'color': 'red', 'subtype': 'NONE', 'created': 1665109261109, 'confidence': '0.377433', 'name': 'Explorer', 'count': '1'}}]\n"
     ]
    },
    {
     "data": {
      "text/plain": [
       "[{'n': {'favorite_food': 'pizza',\n",
       "   'color': 'green',\n",
       "   'fav_ice_cream': 'mint chip',\n",
       "   'created': 1665101110729,\n",
       "   'name': 'James May'}},\n",
       " {'n': {'favorite_food': 'Richard Hammond',\n",
       "   'color': 'green',\n",
       "   'created': 1665101110765,\n",
       "   'name': 'Jeremy Clarkson'}},\n",
       " {'n': {'condition': 'Like new',\n",
       "   'color': 'blue',\n",
       "   'created': 1665101110790,\n",
       "   'name': 'Toyota Camry'}},\n",
       " {'n': {'condition': 'Like new',\n",
       "   'color': 'blue',\n",
       "   'created': 1665107304535,\n",
       "   'name': 'Honda Accord'}},\n",
       " {'n': {'color': 'red',\n",
       "   'subtype': 'Claimant',\n",
       "   'created': 1665109260592,\n",
       "   'confidence': '0.999964',\n",
       "   'name': 'My',\n",
       "   'count': '6'}},\n",
       " {'n': {'color': 'red',\n",
       "   'subtype': 'IncidentLocation',\n",
       "   'created': 1665109260708,\n",
       "   'confidence': '0.997111',\n",
       "   'name': 'parking lot',\n",
       "   'count': '1'}},\n",
       " {'n': {'color': 'red',\n",
       "   'subtype': 'Number',\n",
       "   'created': 1665109260765,\n",
       "   'confidence': '0.989154',\n",
       "   'name': '#GYH98817',\n",
       "   'count': '1'}},\n",
       " {'n': {'color': 'red',\n",
       "   'subtype': 'SUV',\n",
       "   'created': 1665109260823,\n",
       "   'confidence': '0.939176',\n",
       "   'name': 'Nationwide #RUH612912',\n",
       "   'count': '4'}},\n",
       " {'n': {'color': 'red',\n",
       "   'subtype': 'ThirdParty',\n",
       "   'created': 1665109260879,\n",
       "   'confidence': '0.916797',\n",
       "   'name': 'Jessica Owens',\n",
       "   'count': '2'}},\n",
       " {'n': {'color': 'red',\n",
       "   'subtype': 'NONE',\n",
       "   'created': 1665109260900,\n",
       "   'confidence': '0.867708',\n",
       "   'name': 'passenger side door',\n",
       "   'count': '2'}},\n",
       " {'n': {'color': 'red',\n",
       "   'subtype': 'NONE',\n",
       "   'created': 1665109260955,\n",
       "   'confidence': '0.797304',\n",
       "   'name': 'her',\n",
       "   'count': '1'}},\n",
       " {'n': {'color': 'red',\n",
       "   'subtype': 'Sedan',\n",
       "   'created': 1665109260962,\n",
       "   'confidence': '0.685519',\n",
       "   'name': '2019 Ford',\n",
       "   'count': '1'}},\n",
       " {'n': {'color': 'red',\n",
       "   'subtype': 'NONE',\n",
       "   'created': 1665109260972,\n",
       "   'confidence': '0.634804',\n",
       "   'name': '2022 Toyota Camry',\n",
       "   'count': '1'}},\n",
       " {'n': {'color': 'red',\n",
       "   'subtype': 'NONE',\n",
       "   'created': 1665109260988,\n",
       "   'confidence': '0.610561',\n",
       "   'name': 'someone',\n",
       "   'count': '1'}},\n",
       " {'n': {'color': 'red',\n",
       "   'subtype': 'NONE',\n",
       "   'created': 1665109260996,\n",
       "   'confidence': '0.42999',\n",
       "   'name': 'Geico policy',\n",
       "   'count': '2'}},\n",
       " {'n': {'color': 'red',\n",
       "   'subtype': 'ThunderStorm',\n",
       "   'created': 1665109261052,\n",
       "   'confidence': '0.382135',\n",
       "   'name': 'passenger',\n",
       "   'count': '1'}},\n",
       " {'n': {'color': 'red',\n",
       "   'subtype': 'NONE',\n",
       "   'created': 1665109261109,\n",
       "   'confidence': '0.377433',\n",
       "   'name': 'Explorer',\n",
       "   'count': '1'}}]"
      ]
     },
     "execution_count": 22,
     "metadata": {},
     "output_type": "execute_result"
    }
   ],
   "source": [
    "G.read_from_neo()"
   ]
  },
  {
   "cell_type": "markdown",
   "id": "1b08acf7-d075-45bf-a7f1-4a08d86a04c3",
   "metadata": {},
   "source": [
    "## Driver Open/Close (NOT WORKING AS INTENDED)"
   ]
  },
  {
   "cell_type": "code",
   "execution_count": null,
   "id": "e2c7e96c-eb06-46cb-99c3-efa9ec7f631a",
   "metadata": {},
   "outputs": [],
   "source": [
    "G.close()"
   ]
  },
  {
   "cell_type": "code",
   "execution_count": null,
   "id": "85a1ff11-0ce9-48c2-920c-ef69d571eb63",
   "metadata": {},
   "outputs": [],
   "source": [
    "G.add_node('Honda Accord', data = {'color': 'blue', 'label': 'Car', 'condition':'Like new'})\n",
    "G.store_in_neo()"
   ]
  },
  {
   "cell_type": "markdown",
   "id": "1095628a-af43-4107-9e4e-eb15eff0d51e",
   "metadata": {},
   "source": [
    "## UNIT TESTING: "
   ]
  },
  {
   "cell_type": "markdown",
   "id": "2a517113-4e8b-41d2-833e-f3dc5ee9d0f4",
   "metadata": {},
   "source": [
    "### nx_to_neo.sanitize (WORKING)"
   ]
  },
  {
   "cell_type": "code",
   "execution_count": 11,
   "id": "abad2cce-b5eb-407b-b29a-5e2c4fb79b96",
   "metadata": {},
   "outputs": [
    {
     "name": "stdout",
     "output_type": "stream",
     "text": [
      "h ll2en\n",
      "  80 like \n"
     ]
    }
   ],
   "source": [
    "from neograph import nx_to_neo\n",
    "\n",
    "#check that sanitizing function is working as expected\n",
    "\n",
    "str1 = 'h ll;/2en'\n",
    "str2 = '  80; like /'\n",
    "str1, str2 = nx_to_neo.sanitize(str1, str2)\n",
    "print(str1)\n",
    "print(str2)"
   ]
  },
  {
   "cell_type": "markdown",
   "id": "3832b600-8c1a-4ed8-9c2e-17852e5c9fda",
   "metadata": {},
   "source": [
    "### Testing string to numeric functionality"
   ]
  },
  {
   "cell_type": "code",
   "execution_count": null,
   "id": "eb3d2ee0-21f9-4b19-912c-c6962ebba132",
   "metadata": {},
   "outputs": [],
   "source": [
    "def isfloat(x):\n",
    "    try:\n",
    "        a = float(x)\n",
    "    except (TypeError, ValueError):\n",
    "        return False\n",
    "    else:\n",
    "        return True\n",
    "\n",
    "def isint(x):\n",
    "    try:\n",
    "        a = float(x)\n",
    "        b = int(a)\n",
    "    except (TypeError, ValueError):\n",
    "        return False\n",
    "    else:\n",
    "        return a == b\n",
    "    \n",
    "isint('54')"
   ]
  },
  {
   "cell_type": "code",
   "execution_count": null,
   "id": "13a9d656-9911-4b81-ae7f-a4a9ff80942a",
   "metadata": {},
   "outputs": [],
   "source": [
    "string = \"hello).\"\n",
    "string = str(string)\n",
    "string.replace('.','')"
   ]
  },
  {
   "cell_type": "code",
   "execution_count": 9,
   "id": "7e29f659-f7d4-4e0e-93dc-c1cfc71983b4",
   "metadata": {},
   "outputs": [
    {
     "name": "stdout",
     "output_type": "stream",
     "text": [
      "color\n",
      "gray\n"
     ]
    },
    {
     "data": {
      "text/plain": [
       "', (\\'color\\',):\"(\\'gray\\',)\"'"
      ]
     },
     "execution_count": 9,
     "metadata": {},
     "output_type": "execute_result"
    }
   ],
   "source": [
    "import neograph as ng\n",
    "from neograph.nx_to_neo import sanitize\n",
    "\n",
    "d = {'color': 'gray'}\n",
    "unpacked_props = \"\"\n",
    "for key, value in d.items():\n",
    "    print(key)\n",
    "    print(value)\n",
    "    if isinstance(value, str):\n",
    "        unpacked_props += f\", {sanitize(str(key))}:\\\"{sanitize(value)}\\\"\"\n",
    "    else:\n",
    "        unpacked_props += f\", {sanitize(str(key))}:\\\"{value}\\\"\"\n",
    "\n",
    "unpacked_props\n"
   ]
  },
  {
   "cell_type": "code",
   "execution_count": 13,
   "id": "b54618fb-a9cb-4f3e-9fea-3c3c8d0f6de8",
   "metadata": {},
   "outputs": [
    {
     "name": "stdout",
     "output_type": "stream",
     "text": [
      "('blue.',)\n",
      "('blue.', 'red')\n"
     ]
    }
   ],
   "source": [
    "s = 'blue.'\n",
    "s2 = 'red;;'\n",
    "print(sanitize('blue.'))\n",
    "print(sanitize(s, s2))"
   ]
  },
  {
   "cell_type": "code",
   "execution_count": 14,
   "id": "e0819a4d-0019-4805-8875-a35ba009073f",
   "metadata": {},
   "outputs": [],
   "source": [
    "a = sanitize(s, s2)"
   ]
  },
  {
   "cell_type": "code",
   "execution_count": 15,
   "id": "094ca053-15dd-4436-a9d3-cda4ea79aef7",
   "metadata": {},
   "outputs": [
    {
     "data": {
      "text/plain": [
       "('blue.', 'red')"
      ]
     },
     "execution_count": 15,
     "metadata": {},
     "output_type": "execute_result"
    }
   ],
   "source": [
    "a"
   ]
  },
  {
   "cell_type": "code",
   "execution_count": null,
   "id": "68f80273-2f22-4c62-af28-dc37b13f0114",
   "metadata": {},
   "outputs": [],
   "source": []
  }
 ],
 "metadata": {
  "kernelspec": {
   "display_name": "Python 3 (ipykernel)",
   "language": "python",
   "name": "python3"
  },
  "language_info": {
   "codemirror_mode": {
    "name": "ipython",
    "version": 3
   },
   "file_extension": ".py",
   "mimetype": "text/x-python",
   "name": "python",
   "nbconvert_exporter": "python",
   "pygments_lexer": "ipython3",
   "version": "3.9.12"
  }
 },
 "nbformat": 4,
 "nbformat_minor": 5
}
