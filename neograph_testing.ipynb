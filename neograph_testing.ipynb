{
 "cells": [
  {
   "cell_type": "markdown",
   "id": "a716ce8a-1d89-43de-a123-ae6e63db026f",
   "metadata": {},
   "source": [
    "# TOC\n",
    "\n"
   ]
  },
  {
   "cell_type": "markdown",
   "id": "9e845e27-b1e4-4714-bff0-c84bcd24933b",
   "metadata": {},
   "source": [
    "# Import Neograph package"
   ]
  },
  {
   "cell_type": "code",
   "execution_count": 61,
   "id": "942ef419-186d-4e13-8f9d-0ede1d9adf59",
   "metadata": {},
   "outputs": [
    {
     "name": "stdout",
     "output_type": "stream",
     "text": [
      "The autoreload extension is already loaded. To reload it, use:\n",
      "  %reload_ext autoreload\n"
     ]
    }
   ],
   "source": [
    "%load_ext autoreload\n",
    "%autoreload 2\n",
    "import neograph as ng"
   ]
  },
  {
   "cell_type": "markdown",
   "id": "021fe330-e73c-43e2-99b8-72174d5277e9",
   "metadata": {},
   "source": [
    "# Create a NeoGraph and Connect to DBMS"
   ]
  },
  {
   "cell_type": "code",
   "execution_count": 62,
   "id": "fac3374d-a407-47a8-84fa-103d6d9c0237",
   "metadata": {},
   "outputs": [],
   "source": [
    "uri      = \"bolt://localhost:7687\" # in Neo4j Desktop\n",
    "                              # custom URL for Sandbox or Aura\n",
    "user     = \"neo4j\"            # your user name \n",
    "                              # default is always \"neo4j\" \n",
    "                              # unless you have changed it. \n",
    "password = 'usaa&ibm'   #your neo4j password\n",
    "\n",
    "G = ng.NeoGraph(uri = uri, user = user, password = password)"
   ]
  },
  {
   "cell_type": "markdown",
   "id": "f3a4f054-4c4c-4eed-b12c-a194418a1f60",
   "metadata": {},
   "source": [
    "# TESTING"
   ]
  },
  {
   "cell_type": "markdown",
   "id": "05b14a8d-deee-44f5-af23-6f1d99a85ea5",
   "metadata": {},
   "source": [
    "## Contraints on DBMS (WORKING)"
   ]
  },
  {
   "cell_type": "code",
   "execution_count": 63,
   "id": "096ccb36-359f-4d12-9880-329a69a1caea",
   "metadata": {},
   "outputs": [
    {
     "name": "stdout",
     "output_type": "stream",
     "text": [
      "Desired constraint on nodes for Person{name} already exists.\n",
      "\n",
      "Get constraint query result:\n",
      "[{'id': 4, 'name': 'Person_node_name_unique', 'type': 'UNIQUENESS', 'entityType': 'NODE', 'labelsOrTypes': ['Person'], 'properties': ['name'], 'ownedIndexId': 3}]\n"
     ]
    }
   ],
   "source": [
    "G.create_constraint(label = 'Person', prop = 'name', on='node', constraint_type = 'unique')\n",
    "G.get_constraints()"
   ]
  },
  {
   "cell_type": "markdown",
   "id": "0c0d9f72-2e80-451a-bda2-09729c8f0bb5",
   "metadata": {},
   "source": [
    "## Storage in DBMS (WORKING)"
   ]
  },
  {
   "cell_type": "code",
   "execution_count": 64,
   "id": "d66ba117-2a21-4e50-af7d-d5294711de37",
   "metadata": {},
   "outputs": [
    {
     "data": {
      "image/png": "[encoded data removed]",
      "text/plain": [
       "<Figure size 576x576 with 1 Axes>"
      ]
     },
     "metadata": {},
     "output_type": "display_data"
    },
    {
     "name": "stdout",
     "output_type": "stream",
     "text": [
      "\n",
      "Add node query result:\n",
      "[{'n': {'favorite_food': 'pizza', 'color': 'green', 'created': 1665003536815, 'name': 'James May'}, 'n.created': 1665003536815}]\n",
      "\n",
      "Add node query result:\n",
      "[{'n': {'favorite_food': 'Richard Hammond', 'color': 'green', 'created': 1665003536833, 'name': 'Jeremy Clarkson'}, 'n.created': 1665003536833}]\n",
      "\n",
      "Add node query result:\n",
      "[{'n': {'condition': 'Like new', 'color': 'blue', 'created': 1665003536836, 'name': 'Toyota Camry'}, 'n.created': 1665003536836}]\n",
      "\n",
      "Add relationship query result:\n",
      "[{'e': ({}, 'hitBy', {})}]\n",
      "\n",
      "Add relationship query result:\n",
      "[{'e': ({}, 'ownedBy', {})}]\n"
     ]
    }
   ],
   "source": [
    "G.add_node('James May', data = {'color': 'green', 'label': 'Person', 'favorite_food':'pizza'})\n",
    "G.add_node('Jeremy Clarkson', data = {'color' : 'green', 'label': 'Person', 'favorite_food':'Richard Hammond'})\n",
    "G.add_node('Toyota Camry', data = {'color': 'blue', 'label': 'Car', 'condition':'Like new'})\n",
    "G.add_edge('James May', 'Toyota Camry', label = 'hitBy')\n",
    "G.add_edge('Toyota Camry', 'Jeremy Clarkson', label = 'ownedBy')\n",
    "\n",
    "ng.draw_labeled_net(G)\n",
    "\n",
    "G.store_in_neo()"
   ]
  },
  {
   "cell_type": "markdown",
   "id": "65c5945c-6e1f-4279-9256-ab00274b10db",
   "metadata": {},
   "source": [
    "## Loading (NOT FINISHED, need to extract into networkx graph)"
   ]
  },
  {
   "cell_type": "code",
   "execution_count": 65,
   "id": "6046b4b9-7e00-471d-9349-8d6f718bee0a",
   "metadata": {},
   "outputs": [
    {
     "name": "stdout",
     "output_type": "stream",
     "text": [
      "[{'n': {'favorite_food': 'pizza', 'color': 'green', 'created': 1665003536815, 'name': 'James May'}}, {'n': {'favorite_food': 'Richard Hammond', 'color': 'green', 'created': 1665003536833, 'name': 'Jeremy Clarkson'}}, {'n': {'condition': 'Like new', 'color': 'blue', 'created': 1665003536836, 'name': 'Toyota Camry'}}]\n"
     ]
    },
    {
     "data": {
      "text/plain": [
       "[{'n': {'favorite_food': 'pizza',\n",
       "   'color': 'green',\n",
       "   'created': 1665003536815,\n",
       "   'name': 'James May'}},\n",
       " {'n': {'favorite_food': 'Richard Hammond',\n",
       "   'color': 'green',\n",
       "   'created': 1665003536833,\n",
       "   'name': 'Jeremy Clarkson'}},\n",
       " {'n': {'condition': 'Like new',\n",
       "   'color': 'blue',\n",
       "   'created': 1665003536836,\n",
       "   'name': 'Toyota Camry'}}]"
      ]
     },
     "execution_count": 65,
     "metadata": {},
     "output_type": "execute_result"
    }
   ],
   "source": [
    "G.load_from_neo()"
   ]
  },
  {
   "cell_type": "markdown",
   "id": "74a42547-50e0-4884-b0f5-72bbde7c89a0",
   "metadata": {},
   "source": [
    "## Reading (WORKING)"
   ]
  },
  {
   "cell_type": "code",
   "execution_count": 66,
   "id": "cad08128-20e9-4651-883a-00d3babe10fc",
   "metadata": {},
   "outputs": [
    {
     "name": "stdout",
     "output_type": "stream",
     "text": [
      "[{'n': {'favorite_food': 'pizza', 'color': 'green', 'created': 1665003536815, 'name': 'James May'}}, {'n': {'favorite_food': 'Richard Hammond', 'color': 'green', 'created': 1665003536833, 'name': 'Jeremy Clarkson'}}, {'n': {'condition': 'Like new', 'color': 'blue', 'created': 1665003536836, 'name': 'Toyota Camry'}}]\n"
     ]
    },
    {
     "data": {
      "text/plain": [
       "[{'n': {'favorite_food': 'pizza',\n",
       "   'color': 'green',\n",
       "   'created': 1665003536815,\n",
       "   'name': 'James May'}},\n",
       " {'n': {'favorite_food': 'Richard Hammond',\n",
       "   'color': 'green',\n",
       "   'created': 1665003536833,\n",
       "   'name': 'Jeremy Clarkson'}},\n",
       " {'n': {'condition': 'Like new',\n",
       "   'color': 'blue',\n",
       "   'created': 1665003536836,\n",
       "   'name': 'Toyota Camry'}}]"
      ]
     },
     "execution_count": 66,
     "metadata": {},
     "output_type": "execute_result"
    }
   ],
   "source": [
    "G.read_from_neo()"
   ]
  },
  {
   "cell_type": "markdown",
   "id": "1b08acf7-d075-45bf-a7f1-4a08d86a04c3",
   "metadata": {},
   "source": [
    "## Driver Open/Close (NOT WORKING AS INTENDED)"
   ]
  },
  {
   "cell_type": "code",
   "execution_count": 48,
   "id": "e2c7e96c-eb06-46cb-99c3-efa9ec7f631a",
   "metadata": {},
   "outputs": [],
   "source": [
    "G.close()"
   ]
  },
  {
   "cell_type": "code",
   "execution_count": 49,
   "id": "85a1ff11-0ce9-48c2-920c-ef69d571eb63",
   "metadata": {},
   "outputs": [
    {
     "name": "stdout",
     "output_type": "stream",
     "text": [
      "\n",
      "Add node query result:\n",
      "[{'n': {'favorite_food': 'pizza', 'color': 'green', 'created': 1665002695068, 'name': 'James May'}, 'n.created': 1665002695068}]\n",
      "\n",
      "Add node query result:\n",
      "[{'n': {'favorite_food': 'Richard Hammond', 'color': 'green', 'created': 1665002695128, 'name': 'Jeremy Clarkson'}, 'n.created': 1665002695128}]\n",
      "\n",
      "Add node query result:\n",
      "[{'n': {'condition': 'Like new', 'color': 'blue', 'created': 1665002695162, 'name': 'Toyota Camry'}, 'n.created': 1665002695162}]\n",
      "\n",
      "Add node query result:\n",
      "[{'n': {'condition': 'Like new', 'color': 'blue', 'created': 1665002893047, 'name': 'Honda Accord'}, 'n.created': 1665002893047}]\n",
      "\n",
      "Add relationship query result:\n",
      "[{'e': ({}, 'hitBy', {})}]\n",
      "\n",
      "Add relationship query result:\n",
      "[{'e': ({}, 'ownedBy', {})}]\n"
     ]
    }
   ],
   "source": [
    "G.add_node('Honda Accord', data = {'color': 'blue', 'label': 'Car', 'condition':'Like new'})\n",
    "G.store_in_neo()"
   ]
  },
  {
   "cell_type": "markdown",
   "id": "1095628a-af43-4107-9e4e-eb15eff0d51e",
   "metadata": {},
   "source": [
    "## UNIT TESTING: "
   ]
  },
  {
   "cell_type": "markdown",
   "id": "2a517113-4e8b-41d2-833e-f3dc5ee9d0f4",
   "metadata": {},
   "source": [
    "### nx_to_neo.sanitize (WORKING)"
   ]
  },
  {
   "cell_type": "code",
   "execution_count": 51,
   "id": "abad2cce-b5eb-407b-b29a-5e2c4fb79b96",
   "metadata": {},
   "outputs": [
    {
     "name": "stdout",
     "output_type": "stream",
     "text": [
      "h ll2en\n",
      "  80 like \n"
     ]
    }
   ],
   "source": [
    "from neograph import nx_to_neo\n",
    "\n",
    "#check that sanitizing function is working as expected\n",
    "\n",
    "str1 = 'h ll;/2en'\n",
    "str2 = '  80; like /'\n",
    "str1, str2 = nx_to_neo.sanitize(str1, str2)\n",
    "print(str1)\n",
    "print(str2)"
   ]
  },
  {
   "cell_type": "code",
   "execution_count": null,
   "id": "fd629136-7ccf-4bc8-abc9-831ad1feadd4",
   "metadata": {},
   "outputs": [],
   "source": []
  }
 ],
 "metadata": {
  "kernelspec": {
   "display_name": "Python 3 (ipykernel)",
   "language": "python",
   "name": "python3"
  },
  "language_info": {
   "codemirror_mode": {
    "name": "ipython",
    "version": 3
   },
   "file_extension": ".py",
   "mimetype": "text/x-python",
   "name": "python",
   "nbconvert_exporter": "python",
   "pygments_lexer": "ipython3",
   "version": "3.9.12"
  }
 },
 "nbformat": 4,
 "nbformat_minor": 5
}
